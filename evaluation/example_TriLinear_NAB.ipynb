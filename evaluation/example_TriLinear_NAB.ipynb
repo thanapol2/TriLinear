{
 "cells": [
  {
   "cell_type": "code",
   "id": "initial_id",
   "metadata": {
    "collapsed": true,
    "ExecuteTime": {
     "end_time": "2025-05-29T08:31:20.840761Z",
     "start_time": "2025-05-29T08:31:18.154339Z"
    }
   },
   "source": [
    "import os\n",
    "\n",
    "import src.TriLinear as TriLinear\n",
    "from TSB_AD.evaluation.metrics import get_metrics\n",
    "import torch\n",
    "import pandas as pd\n",
    "\n",
    "from src.utils import create_sequences, anomaly_scores\n",
    "import torch.nn as nn\n",
    "import torch.optim as optim\n",
    "\n",
    "from periodicity_detection import find_length"
   ],
   "outputs": [],
   "execution_count": 1
  },
  {
   "metadata": {
    "ExecuteTime": {
     "end_time": "2025-05-29T08:31:20.886774Z",
     "start_time": "2025-05-29T08:31:20.862654Z"
    }
   },
   "cell_type": "code",
   "source": [
    "# Check device\n",
    "print(\"CUDA available: \", torch.cuda.is_available())\n",
    "print(\"cuDNN version: \", torch.backends.cudnn.version())\n",
    "if torch.cuda.is_available():\n",
    "    print(\"GPU device count: \", torch.cuda.device_count())\n",
    "    print(\"GPU device name: \", torch.cuda.get_device_name(0))\n",
    "device = torch.device(\"cuda\" if torch.cuda.is_available() else \"cpu\")"
   ],
   "id": "3baee9be7add39ae",
   "outputs": [
    {
     "name": "stdout",
     "output_type": "stream",
     "text": [
      "CUDA available:  True\n",
      "cuDNN version:  90100\n",
      "GPU device count:  1\n",
      "GPU device name:  NVIDIA GeForce RTX 2060\n"
     ]
    }
   ],
   "execution_count": 2
  },
  {
   "metadata": {},
   "cell_type": "raw",
   "source": "# setting",
   "id": "f308acafd8587e21"
  },
  {
   "metadata": {
    "ExecuteTime": {
     "end_time": "2025-05-29T08:31:21.611025Z",
     "start_time": "2025-05-29T08:31:21.195642Z"
    }
   },
   "cell_type": "code",
   "source": [
    "dataset_folder = os.path.join('..', 'datasets', 'NAB_KDD')\n",
    "nab_filename   = '001_NAB_id_1_Facility_tr_1007_1st_2014.csv'\n",
    "\n",
    "meta_data = nab_filename.split(\"_\")\n",
    "dataset_folder = meta_data[1]\n",
    "idx_training = int(meta_data[6])\n",
    "\n",
    "df = pd.read_csv(os.path.join(dataset_folder, nab_filename)).dropna()\n",
    "ts = df.iloc[:, 0:-1].values.astype(float)\n",
    "label = df['Label'].astype(int).to_numpy()\n",
    "\n",
    "# find season length\n",
    "season_length = find_length(ts[:idx_training])\n",
    "if season_length == 1 or season_length >= 300:\n",
    "    season_length = 125\n",
    "    seq_length = 125\n",
    "    horizon_size = 50\n",
    "else:\n",
    "    seq_length = season_length * 2\n",
    "    horizon_size = season_length * 1\n",
    "\n"
   ],
   "id": "5988c4561a5587bd",
   "outputs": [
    {
     "ename": "FileNotFoundError",
     "evalue": "[Errno 2] No such file or directory: 'NAB\\\\001_NAB_id_1_Facility_tr_1007_1st_2014.csv'",
     "output_type": "error",
     "traceback": [
      "\u001B[1;31m---------------------------------------------------------------------------\u001B[0m",
      "\u001B[1;31mFileNotFoundError\u001B[0m                         Traceback (most recent call last)",
      "Cell \u001B[1;32mIn[3], line 8\u001B[0m\n\u001B[0;32m      5\u001B[0m dataset_folder \u001B[38;5;241m=\u001B[39m meta_data[\u001B[38;5;241m1\u001B[39m]\n\u001B[0;32m      6\u001B[0m idx_training \u001B[38;5;241m=\u001B[39m \u001B[38;5;28mint\u001B[39m(meta_data[\u001B[38;5;241m6\u001B[39m])\n\u001B[1;32m----> 8\u001B[0m df \u001B[38;5;241m=\u001B[39m \u001B[43mpd\u001B[49m\u001B[38;5;241;43m.\u001B[39;49m\u001B[43mread_csv\u001B[49m\u001B[43m(\u001B[49m\u001B[43mos\u001B[49m\u001B[38;5;241;43m.\u001B[39;49m\u001B[43mpath\u001B[49m\u001B[38;5;241;43m.\u001B[39;49m\u001B[43mjoin\u001B[49m\u001B[43m(\u001B[49m\u001B[43mdataset_folder\u001B[49m\u001B[43m,\u001B[49m\u001B[43m \u001B[49m\u001B[43mnab_filename\u001B[49m\u001B[43m)\u001B[49m\u001B[43m)\u001B[49m\u001B[38;5;241m.\u001B[39mdropna()\n\u001B[0;32m      9\u001B[0m ts \u001B[38;5;241m=\u001B[39m df\u001B[38;5;241m.\u001B[39miloc[:, \u001B[38;5;241m0\u001B[39m:\u001B[38;5;241m-\u001B[39m\u001B[38;5;241m1\u001B[39m]\u001B[38;5;241m.\u001B[39mvalues\u001B[38;5;241m.\u001B[39mastype(\u001B[38;5;28mfloat\u001B[39m)\n\u001B[0;32m     10\u001B[0m label \u001B[38;5;241m=\u001B[39m df[\u001B[38;5;124m'\u001B[39m\u001B[38;5;124mLabel\u001B[39m\u001B[38;5;124m'\u001B[39m]\u001B[38;5;241m.\u001B[39mastype(\u001B[38;5;28mint\u001B[39m)\u001B[38;5;241m.\u001B[39mto_numpy()\n",
      "File \u001B[1;32mD:\\git_project\\ts-mining-light-curve\\venv\\Lib\\site-packages\\pandas\\io\\parsers\\readers.py:1026\u001B[0m, in \u001B[0;36mread_csv\u001B[1;34m(filepath_or_buffer, sep, delimiter, header, names, index_col, usecols, dtype, engine, converters, true_values, false_values, skipinitialspace, skiprows, skipfooter, nrows, na_values, keep_default_na, na_filter, verbose, skip_blank_lines, parse_dates, infer_datetime_format, keep_date_col, date_parser, date_format, dayfirst, cache_dates, iterator, chunksize, compression, thousands, decimal, lineterminator, quotechar, quoting, doublequote, escapechar, comment, encoding, encoding_errors, dialect, on_bad_lines, delim_whitespace, low_memory, memory_map, float_precision, storage_options, dtype_backend)\u001B[0m\n\u001B[0;32m   1013\u001B[0m kwds_defaults \u001B[38;5;241m=\u001B[39m _refine_defaults_read(\n\u001B[0;32m   1014\u001B[0m     dialect,\n\u001B[0;32m   1015\u001B[0m     delimiter,\n\u001B[1;32m   (...)\u001B[0m\n\u001B[0;32m   1022\u001B[0m     dtype_backend\u001B[38;5;241m=\u001B[39mdtype_backend,\n\u001B[0;32m   1023\u001B[0m )\n\u001B[0;32m   1024\u001B[0m kwds\u001B[38;5;241m.\u001B[39mupdate(kwds_defaults)\n\u001B[1;32m-> 1026\u001B[0m \u001B[38;5;28;01mreturn\u001B[39;00m \u001B[43m_read\u001B[49m\u001B[43m(\u001B[49m\u001B[43mfilepath_or_buffer\u001B[49m\u001B[43m,\u001B[49m\u001B[43m \u001B[49m\u001B[43mkwds\u001B[49m\u001B[43m)\u001B[49m\n",
      "File \u001B[1;32mD:\\git_project\\ts-mining-light-curve\\venv\\Lib\\site-packages\\pandas\\io\\parsers\\readers.py:620\u001B[0m, in \u001B[0;36m_read\u001B[1;34m(filepath_or_buffer, kwds)\u001B[0m\n\u001B[0;32m    617\u001B[0m _validate_names(kwds\u001B[38;5;241m.\u001B[39mget(\u001B[38;5;124m\"\u001B[39m\u001B[38;5;124mnames\u001B[39m\u001B[38;5;124m\"\u001B[39m, \u001B[38;5;28;01mNone\u001B[39;00m))\n\u001B[0;32m    619\u001B[0m \u001B[38;5;66;03m# Create the parser.\u001B[39;00m\n\u001B[1;32m--> 620\u001B[0m parser \u001B[38;5;241m=\u001B[39m \u001B[43mTextFileReader\u001B[49m\u001B[43m(\u001B[49m\u001B[43mfilepath_or_buffer\u001B[49m\u001B[43m,\u001B[49m\u001B[43m \u001B[49m\u001B[38;5;241;43m*\u001B[39;49m\u001B[38;5;241;43m*\u001B[39;49m\u001B[43mkwds\u001B[49m\u001B[43m)\u001B[49m\n\u001B[0;32m    622\u001B[0m \u001B[38;5;28;01mif\u001B[39;00m chunksize \u001B[38;5;129;01mor\u001B[39;00m iterator:\n\u001B[0;32m    623\u001B[0m     \u001B[38;5;28;01mreturn\u001B[39;00m parser\n",
      "File \u001B[1;32mD:\\git_project\\ts-mining-light-curve\\venv\\Lib\\site-packages\\pandas\\io\\parsers\\readers.py:1620\u001B[0m, in \u001B[0;36mTextFileReader.__init__\u001B[1;34m(self, f, engine, **kwds)\u001B[0m\n\u001B[0;32m   1617\u001B[0m     \u001B[38;5;28mself\u001B[39m\u001B[38;5;241m.\u001B[39moptions[\u001B[38;5;124m\"\u001B[39m\u001B[38;5;124mhas_index_names\u001B[39m\u001B[38;5;124m\"\u001B[39m] \u001B[38;5;241m=\u001B[39m kwds[\u001B[38;5;124m\"\u001B[39m\u001B[38;5;124mhas_index_names\u001B[39m\u001B[38;5;124m\"\u001B[39m]\n\u001B[0;32m   1619\u001B[0m \u001B[38;5;28mself\u001B[39m\u001B[38;5;241m.\u001B[39mhandles: IOHandles \u001B[38;5;241m|\u001B[39m \u001B[38;5;28;01mNone\u001B[39;00m \u001B[38;5;241m=\u001B[39m \u001B[38;5;28;01mNone\u001B[39;00m\n\u001B[1;32m-> 1620\u001B[0m \u001B[38;5;28mself\u001B[39m\u001B[38;5;241m.\u001B[39m_engine \u001B[38;5;241m=\u001B[39m \u001B[38;5;28;43mself\u001B[39;49m\u001B[38;5;241;43m.\u001B[39;49m\u001B[43m_make_engine\u001B[49m\u001B[43m(\u001B[49m\u001B[43mf\u001B[49m\u001B[43m,\u001B[49m\u001B[43m \u001B[49m\u001B[38;5;28;43mself\u001B[39;49m\u001B[38;5;241;43m.\u001B[39;49m\u001B[43mengine\u001B[49m\u001B[43m)\u001B[49m\n",
      "File \u001B[1;32mD:\\git_project\\ts-mining-light-curve\\venv\\Lib\\site-packages\\pandas\\io\\parsers\\readers.py:1880\u001B[0m, in \u001B[0;36mTextFileReader._make_engine\u001B[1;34m(self, f, engine)\u001B[0m\n\u001B[0;32m   1878\u001B[0m     \u001B[38;5;28;01mif\u001B[39;00m \u001B[38;5;124m\"\u001B[39m\u001B[38;5;124mb\u001B[39m\u001B[38;5;124m\"\u001B[39m \u001B[38;5;129;01mnot\u001B[39;00m \u001B[38;5;129;01min\u001B[39;00m mode:\n\u001B[0;32m   1879\u001B[0m         mode \u001B[38;5;241m+\u001B[39m\u001B[38;5;241m=\u001B[39m \u001B[38;5;124m\"\u001B[39m\u001B[38;5;124mb\u001B[39m\u001B[38;5;124m\"\u001B[39m\n\u001B[1;32m-> 1880\u001B[0m \u001B[38;5;28mself\u001B[39m\u001B[38;5;241m.\u001B[39mhandles \u001B[38;5;241m=\u001B[39m \u001B[43mget_handle\u001B[49m\u001B[43m(\u001B[49m\n\u001B[0;32m   1881\u001B[0m \u001B[43m    \u001B[49m\u001B[43mf\u001B[49m\u001B[43m,\u001B[49m\n\u001B[0;32m   1882\u001B[0m \u001B[43m    \u001B[49m\u001B[43mmode\u001B[49m\u001B[43m,\u001B[49m\n\u001B[0;32m   1883\u001B[0m \u001B[43m    \u001B[49m\u001B[43mencoding\u001B[49m\u001B[38;5;241;43m=\u001B[39;49m\u001B[38;5;28;43mself\u001B[39;49m\u001B[38;5;241;43m.\u001B[39;49m\u001B[43moptions\u001B[49m\u001B[38;5;241;43m.\u001B[39;49m\u001B[43mget\u001B[49m\u001B[43m(\u001B[49m\u001B[38;5;124;43m\"\u001B[39;49m\u001B[38;5;124;43mencoding\u001B[39;49m\u001B[38;5;124;43m\"\u001B[39;49m\u001B[43m,\u001B[49m\u001B[43m \u001B[49m\u001B[38;5;28;43;01mNone\u001B[39;49;00m\u001B[43m)\u001B[49m\u001B[43m,\u001B[49m\n\u001B[0;32m   1884\u001B[0m \u001B[43m    \u001B[49m\u001B[43mcompression\u001B[49m\u001B[38;5;241;43m=\u001B[39;49m\u001B[38;5;28;43mself\u001B[39;49m\u001B[38;5;241;43m.\u001B[39;49m\u001B[43moptions\u001B[49m\u001B[38;5;241;43m.\u001B[39;49m\u001B[43mget\u001B[49m\u001B[43m(\u001B[49m\u001B[38;5;124;43m\"\u001B[39;49m\u001B[38;5;124;43mcompression\u001B[39;49m\u001B[38;5;124;43m\"\u001B[39;49m\u001B[43m,\u001B[49m\u001B[43m \u001B[49m\u001B[38;5;28;43;01mNone\u001B[39;49;00m\u001B[43m)\u001B[49m\u001B[43m,\u001B[49m\n\u001B[0;32m   1885\u001B[0m \u001B[43m    \u001B[49m\u001B[43mmemory_map\u001B[49m\u001B[38;5;241;43m=\u001B[39;49m\u001B[38;5;28;43mself\u001B[39;49m\u001B[38;5;241;43m.\u001B[39;49m\u001B[43moptions\u001B[49m\u001B[38;5;241;43m.\u001B[39;49m\u001B[43mget\u001B[49m\u001B[43m(\u001B[49m\u001B[38;5;124;43m\"\u001B[39;49m\u001B[38;5;124;43mmemory_map\u001B[39;49m\u001B[38;5;124;43m\"\u001B[39;49m\u001B[43m,\u001B[49m\u001B[43m \u001B[49m\u001B[38;5;28;43;01mFalse\u001B[39;49;00m\u001B[43m)\u001B[49m\u001B[43m,\u001B[49m\n\u001B[0;32m   1886\u001B[0m \u001B[43m    \u001B[49m\u001B[43mis_text\u001B[49m\u001B[38;5;241;43m=\u001B[39;49m\u001B[43mis_text\u001B[49m\u001B[43m,\u001B[49m\n\u001B[0;32m   1887\u001B[0m \u001B[43m    \u001B[49m\u001B[43merrors\u001B[49m\u001B[38;5;241;43m=\u001B[39;49m\u001B[38;5;28;43mself\u001B[39;49m\u001B[38;5;241;43m.\u001B[39;49m\u001B[43moptions\u001B[49m\u001B[38;5;241;43m.\u001B[39;49m\u001B[43mget\u001B[49m\u001B[43m(\u001B[49m\u001B[38;5;124;43m\"\u001B[39;49m\u001B[38;5;124;43mencoding_errors\u001B[39;49m\u001B[38;5;124;43m\"\u001B[39;49m\u001B[43m,\u001B[49m\u001B[43m \u001B[49m\u001B[38;5;124;43m\"\u001B[39;49m\u001B[38;5;124;43mstrict\u001B[39;49m\u001B[38;5;124;43m\"\u001B[39;49m\u001B[43m)\u001B[49m\u001B[43m,\u001B[49m\n\u001B[0;32m   1888\u001B[0m \u001B[43m    \u001B[49m\u001B[43mstorage_options\u001B[49m\u001B[38;5;241;43m=\u001B[39;49m\u001B[38;5;28;43mself\u001B[39;49m\u001B[38;5;241;43m.\u001B[39;49m\u001B[43moptions\u001B[49m\u001B[38;5;241;43m.\u001B[39;49m\u001B[43mget\u001B[49m\u001B[43m(\u001B[49m\u001B[38;5;124;43m\"\u001B[39;49m\u001B[38;5;124;43mstorage_options\u001B[39;49m\u001B[38;5;124;43m\"\u001B[39;49m\u001B[43m,\u001B[49m\u001B[43m \u001B[49m\u001B[38;5;28;43;01mNone\u001B[39;49;00m\u001B[43m)\u001B[49m\u001B[43m,\u001B[49m\n\u001B[0;32m   1889\u001B[0m \u001B[43m\u001B[49m\u001B[43m)\u001B[49m\n\u001B[0;32m   1890\u001B[0m \u001B[38;5;28;01massert\u001B[39;00m \u001B[38;5;28mself\u001B[39m\u001B[38;5;241m.\u001B[39mhandles \u001B[38;5;129;01mis\u001B[39;00m \u001B[38;5;129;01mnot\u001B[39;00m \u001B[38;5;28;01mNone\u001B[39;00m\n\u001B[0;32m   1891\u001B[0m f \u001B[38;5;241m=\u001B[39m \u001B[38;5;28mself\u001B[39m\u001B[38;5;241m.\u001B[39mhandles\u001B[38;5;241m.\u001B[39mhandle\n",
      "File \u001B[1;32mD:\\git_project\\ts-mining-light-curve\\venv\\Lib\\site-packages\\pandas\\io\\common.py:873\u001B[0m, in \u001B[0;36mget_handle\u001B[1;34m(path_or_buf, mode, encoding, compression, memory_map, is_text, errors, storage_options)\u001B[0m\n\u001B[0;32m    868\u001B[0m \u001B[38;5;28;01melif\u001B[39;00m \u001B[38;5;28misinstance\u001B[39m(handle, \u001B[38;5;28mstr\u001B[39m):\n\u001B[0;32m    869\u001B[0m     \u001B[38;5;66;03m# Check whether the filename is to be opened in binary mode.\u001B[39;00m\n\u001B[0;32m    870\u001B[0m     \u001B[38;5;66;03m# Binary mode does not support 'encoding' and 'newline'.\u001B[39;00m\n\u001B[0;32m    871\u001B[0m     \u001B[38;5;28;01mif\u001B[39;00m ioargs\u001B[38;5;241m.\u001B[39mencoding \u001B[38;5;129;01mand\u001B[39;00m \u001B[38;5;124m\"\u001B[39m\u001B[38;5;124mb\u001B[39m\u001B[38;5;124m\"\u001B[39m \u001B[38;5;129;01mnot\u001B[39;00m \u001B[38;5;129;01min\u001B[39;00m ioargs\u001B[38;5;241m.\u001B[39mmode:\n\u001B[0;32m    872\u001B[0m         \u001B[38;5;66;03m# Encoding\u001B[39;00m\n\u001B[1;32m--> 873\u001B[0m         handle \u001B[38;5;241m=\u001B[39m \u001B[38;5;28;43mopen\u001B[39;49m\u001B[43m(\u001B[49m\n\u001B[0;32m    874\u001B[0m \u001B[43m            \u001B[49m\u001B[43mhandle\u001B[49m\u001B[43m,\u001B[49m\n\u001B[0;32m    875\u001B[0m \u001B[43m            \u001B[49m\u001B[43mioargs\u001B[49m\u001B[38;5;241;43m.\u001B[39;49m\u001B[43mmode\u001B[49m\u001B[43m,\u001B[49m\n\u001B[0;32m    876\u001B[0m \u001B[43m            \u001B[49m\u001B[43mencoding\u001B[49m\u001B[38;5;241;43m=\u001B[39;49m\u001B[43mioargs\u001B[49m\u001B[38;5;241;43m.\u001B[39;49m\u001B[43mencoding\u001B[49m\u001B[43m,\u001B[49m\n\u001B[0;32m    877\u001B[0m \u001B[43m            \u001B[49m\u001B[43merrors\u001B[49m\u001B[38;5;241;43m=\u001B[39;49m\u001B[43merrors\u001B[49m\u001B[43m,\u001B[49m\n\u001B[0;32m    878\u001B[0m \u001B[43m            \u001B[49m\u001B[43mnewline\u001B[49m\u001B[38;5;241;43m=\u001B[39;49m\u001B[38;5;124;43m\"\u001B[39;49m\u001B[38;5;124;43m\"\u001B[39;49m\u001B[43m,\u001B[49m\n\u001B[0;32m    879\u001B[0m \u001B[43m        \u001B[49m\u001B[43m)\u001B[49m\n\u001B[0;32m    880\u001B[0m     \u001B[38;5;28;01melse\u001B[39;00m:\n\u001B[0;32m    881\u001B[0m         \u001B[38;5;66;03m# Binary mode\u001B[39;00m\n\u001B[0;32m    882\u001B[0m         handle \u001B[38;5;241m=\u001B[39m \u001B[38;5;28mopen\u001B[39m(handle, ioargs\u001B[38;5;241m.\u001B[39mmode)\n",
      "\u001B[1;31mFileNotFoundError\u001B[0m: [Errno 2] No such file or directory: 'NAB\\\\001_NAB_id_1_Facility_tr_1007_1st_2014.csv'"
     ]
    }
   ],
   "execution_count": 3
  },
  {
   "metadata": {
    "ExecuteTime": {
     "end_time": "2025-05-29T08:31:21.613538300Z",
     "start_time": "2025-05-29T08:22:17.391792Z"
    }
   },
   "cell_type": "code",
   "source": [
    "num_epochs = 100\n",
    "learning_rate = 0.005\n",
    "\n",
    "X_train, Y_train = create_sequences(ts[:idx_training].squeeze(axis=-1), seq_length, horizon_size)\n",
    "X_test, Y_test = create_sequences(ts[idx_training - seq_length - horizon_size + 1:].squeeze(axis=-1),\n",
    "                                          seq_length, horizon_size)\n"
   ],
   "id": "235e9f8aa9fb6f28",
   "outputs": [],
   "execution_count": 13
  },
  {
   "metadata": {
    "ExecuteTime": {
     "end_time": "2025-05-29T08:31:21.614542800Z",
     "start_time": "2025-05-29T08:22:17.425166Z"
    }
   },
   "cell_type": "code",
   "source": [
    "# 2. Move model to GPU\n",
    "tri_model = TriLinear.Model(seq_length, horizon_size).to(device)\n",
    "\n",
    "X_train = torch.tensor(X_train).float().to(device)\n",
    "Y_train = torch.tensor(Y_train).float().to(device)\n",
    "X_test = torch.tensor(X_test).float().to(device)\n",
    "Y_test = torch.tensor(Y_test).float().to(device)\n",
    "\n",
    "# 3. Train model with data on GPU\n",
    "criterion = nn.MSELoss()\n",
    "optimizer = optim.Adam(tri_model.parameters(), lr=learning_rate)\n",
    "\n",
    "# Variables to store losses\n",
    "train_losses = []\n",
    "test_losses = []\n",
    "\n",
    "# Training loop\n",
    "for epoch in range(num_epochs):\n",
    "    tri_model.train()\n",
    "\n",
    "    optimizer.zero_grad()\n",
    "    outputs = tri_model(X_train.unsqueeze(-1))\n",
    "\n",
    "    # Training loss\n",
    "    train_loss = criterion(outputs.squeeze(), Y_train)\n",
    "    train_loss.backward()\n",
    "    optimizer.step()\n",
    "\n",
    "    # Store training loss\n",
    "    train_losses.append(train_loss.item())\n",
    "\n",
    "    # 4. Calculate test loss\n",
    "    tri_model.eval()\n",
    "    with torch.no_grad():\n",
    "        test_outputs = tri_model(X_test.unsqueeze(-1))\n",
    "        test_loss = criterion(test_outputs.squeeze(), Y_test)\n",
    "\n",
    "    # Store test loss\n",
    "    test_losses.append(test_loss.item())\n",
    "\n",
    "    # Print losses for each epoch\n",
    "    print(\n",
    "        f\"Epoch [{epoch + 1}/{num_epochs}], Train Loss: {train_loss.item():.4f}, Test Loss: {test_loss.item():.4f}\")"
   ],
   "id": "46102b432ff75763",
   "outputs": [
    {
     "name": "stdout",
     "output_type": "stream",
     "text": [
      "Epoch [1/100], Train Loss: 1.1729, Test Loss: 1.2888\n",
      "Epoch [2/100], Train Loss: 1.0931, Test Loss: 1.2314\n",
      "Epoch [3/100], Train Loss: 1.0353, Test Loss: 1.2046\n",
      "Epoch [4/100], Train Loss: 0.9916, Test Loss: 1.1895\n",
      "Epoch [5/100], Train Loss: 0.9566, Test Loss: 1.1783\n",
      "Epoch [6/100], Train Loss: 0.9268, Test Loss: 1.1686\n",
      "Epoch [7/100], Train Loss: 0.9007, Test Loss: 1.1613\n",
      "Epoch [8/100], Train Loss: 0.8777, Test Loss: 1.1580\n",
      "Epoch [9/100], Train Loss: 0.8577, Test Loss: 1.1593\n",
      "Epoch [10/100], Train Loss: 0.8406, Test Loss: 1.1650\n",
      "Epoch [11/100], Train Loss: 0.8261, Test Loss: 1.1744\n",
      "Epoch [12/100], Train Loss: 0.8138, Test Loss: 1.1864\n",
      "Epoch [13/100], Train Loss: 0.8034, Test Loss: 1.1999\n",
      "Epoch [14/100], Train Loss: 0.7946, Test Loss: 1.2141\n",
      "Epoch [15/100], Train Loss: 0.7871, Test Loss: 1.2279\n",
      "Epoch [16/100], Train Loss: 0.7808, Test Loss: 1.2410\n",
      "Epoch [17/100], Train Loss: 0.7755, Test Loss: 1.2532\n",
      "Epoch [18/100], Train Loss: 0.7709, Test Loss: 1.2651\n",
      "Epoch [19/100], Train Loss: 0.7670, Test Loss: 1.2773\n",
      "Epoch [20/100], Train Loss: 0.7638, Test Loss: 1.2903\n",
      "Epoch [21/100], Train Loss: 0.7610, Test Loss: 1.3045\n",
      "Epoch [22/100], Train Loss: 0.7587, Test Loss: 1.3198\n",
      "Epoch [23/100], Train Loss: 0.7566, Test Loss: 1.3361\n",
      "Epoch [24/100], Train Loss: 0.7549, Test Loss: 1.3529\n",
      "Epoch [25/100], Train Loss: 0.7534, Test Loss: 1.3699\n",
      "Epoch [26/100], Train Loss: 0.7521, Test Loss: 1.3866\n",
      "Epoch [27/100], Train Loss: 0.7510, Test Loss: 1.4024\n",
      "Epoch [28/100], Train Loss: 0.7499, Test Loss: 1.4171\n",
      "Epoch [29/100], Train Loss: 0.7490, Test Loss: 1.4308\n",
      "Epoch [30/100], Train Loss: 0.7482, Test Loss: 1.4434\n",
      "Epoch [31/100], Train Loss: 0.7474, Test Loss: 1.4552\n",
      "Epoch [32/100], Train Loss: 0.7467, Test Loss: 1.4663\n",
      "Epoch [33/100], Train Loss: 0.7461, Test Loss: 1.4767\n",
      "Epoch [34/100], Train Loss: 0.7455, Test Loss: 1.4863\n",
      "Epoch [35/100], Train Loss: 0.7450, Test Loss: 1.4953\n",
      "Epoch [36/100], Train Loss: 0.7445, Test Loss: 1.5035\n",
      "Epoch [37/100], Train Loss: 0.7441, Test Loss: 1.5109\n",
      "Epoch [38/100], Train Loss: 0.7437, Test Loss: 1.5174\n",
      "Epoch [39/100], Train Loss: 0.7433, Test Loss: 1.5233\n",
      "Epoch [40/100], Train Loss: 0.7429, Test Loss: 1.5286\n",
      "Epoch [41/100], Train Loss: 0.7426, Test Loss: 1.5336\n",
      "Epoch [42/100], Train Loss: 0.7424, Test Loss: 1.5386\n",
      "Epoch [43/100], Train Loss: 0.7421, Test Loss: 1.5434\n",
      "Epoch [44/100], Train Loss: 0.7419, Test Loss: 1.5480\n",
      "Epoch [45/100], Train Loss: 0.7417, Test Loss: 1.5522\n",
      "Epoch [46/100], Train Loss: 0.7415, Test Loss: 1.5558\n",
      "Epoch [47/100], Train Loss: 0.7414, Test Loss: 1.5589\n",
      "Epoch [48/100], Train Loss: 0.7412, Test Loss: 1.5614\n",
      "Epoch [49/100], Train Loss: 0.7411, Test Loss: 1.5634\n",
      "Epoch [50/100], Train Loss: 0.7410, Test Loss: 1.5650\n",
      "Epoch [51/100], Train Loss: 0.7408, Test Loss: 1.5663\n",
      "Epoch [52/100], Train Loss: 0.7407, Test Loss: 1.5674\n",
      "Epoch [53/100], Train Loss: 0.7406, Test Loss: 1.5683\n",
      "Epoch [54/100], Train Loss: 0.7406, Test Loss: 1.5688\n",
      "Epoch [55/100], Train Loss: 0.7405, Test Loss: 1.5689\n",
      "Epoch [56/100], Train Loss: 0.7404, Test Loss: 1.5688\n",
      "Epoch [57/100], Train Loss: 0.7403, Test Loss: 1.5686\n",
      "Epoch [58/100], Train Loss: 0.7403, Test Loss: 1.5682\n",
      "Epoch [59/100], Train Loss: 0.7402, Test Loss: 1.5678\n",
      "Epoch [60/100], Train Loss: 0.7402, Test Loss: 1.5672\n",
      "Epoch [61/100], Train Loss: 0.7401, Test Loss: 1.5664\n",
      "Epoch [62/100], Train Loss: 0.7401, Test Loss: 1.5657\n",
      "Epoch [63/100], Train Loss: 0.7401, Test Loss: 1.5649\n",
      "Epoch [64/100], Train Loss: 0.7400, Test Loss: 1.5642\n",
      "Epoch [65/100], Train Loss: 0.7400, Test Loss: 1.5635\n",
      "Epoch [66/100], Train Loss: 0.7400, Test Loss: 1.5629\n",
      "Epoch [67/100], Train Loss: 0.7399, Test Loss: 1.5623\n",
      "Epoch [68/100], Train Loss: 0.7399, Test Loss: 1.5617\n",
      "Epoch [69/100], Train Loss: 0.7399, Test Loss: 1.5610\n",
      "Epoch [70/100], Train Loss: 0.7399, Test Loss: 1.5602\n",
      "Epoch [71/100], Train Loss: 0.7399, Test Loss: 1.5593\n",
      "Epoch [72/100], Train Loss: 0.7399, Test Loss: 1.5582\n",
      "Epoch [73/100], Train Loss: 0.7398, Test Loss: 1.5570\n",
      "Epoch [74/100], Train Loss: 0.7398, Test Loss: 1.5558\n",
      "Epoch [75/100], Train Loss: 0.7398, Test Loss: 1.5548\n",
      "Epoch [76/100], Train Loss: 0.7398, Test Loss: 1.5540\n",
      "Epoch [77/100], Train Loss: 0.7398, Test Loss: 1.5537\n",
      "Epoch [78/100], Train Loss: 0.7398, Test Loss: 1.5535\n",
      "Epoch [79/100], Train Loss: 0.7398, Test Loss: 1.5533\n",
      "Epoch [80/100], Train Loss: 0.7398, Test Loss: 1.5531\n",
      "Epoch [81/100], Train Loss: 0.7398, Test Loss: 1.5527\n",
      "Epoch [82/100], Train Loss: 0.7398, Test Loss: 1.5522\n",
      "Epoch [83/100], Train Loss: 0.7398, Test Loss: 1.5515\n",
      "Epoch [84/100], Train Loss: 0.7398, Test Loss: 1.5509\n",
      "Epoch [85/100], Train Loss: 0.7398, Test Loss: 1.5503\n",
      "Epoch [86/100], Train Loss: 0.7398, Test Loss: 1.5499\n",
      "Epoch [87/100], Train Loss: 0.7398, Test Loss: 1.5497\n",
      "Epoch [88/100], Train Loss: 0.7398, Test Loss: 1.5496\n",
      "Epoch [89/100], Train Loss: 0.7398, Test Loss: 1.5496\n",
      "Epoch [90/100], Train Loss: 0.7397, Test Loss: 1.5498\n",
      "Epoch [91/100], Train Loss: 0.7397, Test Loss: 1.5499\n",
      "Epoch [92/100], Train Loss: 0.7397, Test Loss: 1.5499\n",
      "Epoch [93/100], Train Loss: 0.7397, Test Loss: 1.5498\n",
      "Epoch [94/100], Train Loss: 0.7397, Test Loss: 1.5497\n",
      "Epoch [95/100], Train Loss: 0.7397, Test Loss: 1.5495\n",
      "Epoch [96/100], Train Loss: 0.7397, Test Loss: 1.5494\n",
      "Epoch [97/100], Train Loss: 0.7397, Test Loss: 1.5494\n",
      "Epoch [98/100], Train Loss: 0.7397, Test Loss: 1.5494\n",
      "Epoch [99/100], Train Loss: 0.7397, Test Loss: 1.5495\n",
      "Epoch [100/100], Train Loss: 0.7397, Test Loss: 1.5495\n"
     ]
    }
   ],
   "execution_count": 14
  },
  {
   "metadata": {
    "ExecuteTime": {
     "end_time": "2025-05-29T08:31:21.614542800Z",
     "start_time": "2025-05-29T08:22:17.764019Z"
    }
   },
   "cell_type": "code",
   "source": [
    "result = []\n",
    "# Inference on GPU\n",
    "tri_model.eval()\n",
    "with torch.no_grad():\n",
    "    predictions = tri_model(X_test.unsqueeze(-1))\n",
    "\n",
    "    vals = Y_test.cpu().numpy()\n",
    "    preds = predictions.cpu().numpy().squeeze(axis=-1)\n",
    "    triLinear_anomaly_scores = anomaly_scores(vals, preds)\n",
    "\n",
    "\n",
    "metrics = get_metrics(triLinear_anomaly_scores, label[idx_training:])\n",
    "metrics.update({\n",
    "    'detector_name':  \"TriLinear\",\n",
    "    'detector_type':  'semisupervised',\n",
    "    'file_name':      nab_filename,\n",
    "})\n",
    "result.append(metrics)\n",
    "\n",
    "df_LC = pd.DataFrame(result).reset_index()\n",
    "df_LC"
   ],
   "id": "c59280db75f1a9b7",
   "outputs": [
    {
     "name": "stderr",
     "output_type": "stream",
     "text": [
      "D:\\git_project\\ts-mining-light-curve\\venv\\Lib\\site-packages\\sklearn\\metrics\\_classification.py:1531: UndefinedMetricWarning: Precision is ill-defined and being set to 0.0 due to no predicted samples. Use `zero_division` parameter to control this behavior.\n",
      "  _warn_prf(average, modifier, f\"{metric.capitalize()} is\", len(result))\n",
      "D:\\git_project\\ts-mining-light-curve\\venv\\Lib\\site-packages\\sklearn\\metrics\\_classification.py:1531: UndefinedMetricWarning: Precision is ill-defined and being set to 0.0 due to no predicted samples. Use `zero_division` parameter to control this behavior.\n",
      "  _warn_prf(average, modifier, f\"{metric.capitalize()} is\", len(result))\n"
     ]
    },
    {
     "data": {
      "text/plain": [
       "   index    AUC-PR   AUC-ROC    VUS-PR   VUS-ROC  Standard-F1     PA-F1  \\\n",
       "0      0  0.056028  0.924778  0.137051  0.949385     0.180994  0.212766   \n",
       "1      1  0.163698  0.948188  0.435669  0.971421     0.398403  0.636943   \n",
       "\n",
       "   Event-based-F1  R-based-F1  Affiliation-F detector_name   detector_type  \\\n",
       "0        0.175439    0.389140       0.959679     TriLinear  semisupervised   \n",
       "1        0.393574    0.487065       0.968693     TriLinear  semisupervised   \n",
       "\n",
       "        file_name anomaly_phase flare_type  \n",
       "0  14_mdwarfs.csv        rising    Mdwarfs  \n",
       "1  14_mdwarfs.csv          full    Mdwarfs  "
      ],
      "text/html": [
       "<div>\n",
       "<style scoped>\n",
       "    .dataframe tbody tr th:only-of-type {\n",
       "        vertical-align: middle;\n",
       "    }\n",
       "\n",
       "    .dataframe tbody tr th {\n",
       "        vertical-align: top;\n",
       "    }\n",
       "\n",
       "    .dataframe thead th {\n",
       "        text-align: right;\n",
       "    }\n",
       "</style>\n",
       "<table border=\"1\" class=\"dataframe\">\n",
       "  <thead>\n",
       "    <tr style=\"text-align: right;\">\n",
       "      <th></th>\n",
       "      <th>index</th>\n",
       "      <th>AUC-PR</th>\n",
       "      <th>AUC-ROC</th>\n",
       "      <th>VUS-PR</th>\n",
       "      <th>VUS-ROC</th>\n",
       "      <th>Standard-F1</th>\n",
       "      <th>PA-F1</th>\n",
       "      <th>Event-based-F1</th>\n",
       "      <th>R-based-F1</th>\n",
       "      <th>Affiliation-F</th>\n",
       "      <th>detector_name</th>\n",
       "      <th>detector_type</th>\n",
       "      <th>file_name</th>\n",
       "      <th>anomaly_phase</th>\n",
       "      <th>flare_type</th>\n",
       "    </tr>\n",
       "  </thead>\n",
       "  <tbody>\n",
       "    <tr>\n",
       "      <th>0</th>\n",
       "      <td>0</td>\n",
       "      <td>0.056028</td>\n",
       "      <td>0.924778</td>\n",
       "      <td>0.137051</td>\n",
       "      <td>0.949385</td>\n",
       "      <td>0.180994</td>\n",
       "      <td>0.212766</td>\n",
       "      <td>0.175439</td>\n",
       "      <td>0.389140</td>\n",
       "      <td>0.959679</td>\n",
       "      <td>TriLinear</td>\n",
       "      <td>semisupervised</td>\n",
       "      <td>14_mdwarfs.csv</td>\n",
       "      <td>rising</td>\n",
       "      <td>Mdwarfs</td>\n",
       "    </tr>\n",
       "    <tr>\n",
       "      <th>1</th>\n",
       "      <td>1</td>\n",
       "      <td>0.163698</td>\n",
       "      <td>0.948188</td>\n",
       "      <td>0.435669</td>\n",
       "      <td>0.971421</td>\n",
       "      <td>0.398403</td>\n",
       "      <td>0.636943</td>\n",
       "      <td>0.393574</td>\n",
       "      <td>0.487065</td>\n",
       "      <td>0.968693</td>\n",
       "      <td>TriLinear</td>\n",
       "      <td>semisupervised</td>\n",
       "      <td>14_mdwarfs.csv</td>\n",
       "      <td>full</td>\n",
       "      <td>Mdwarfs</td>\n",
       "    </tr>\n",
       "  </tbody>\n",
       "</table>\n",
       "</div>"
      ]
     },
     "execution_count": 15,
     "metadata": {},
     "output_type": "execute_result"
    }
   ],
   "execution_count": 15
  }
 ],
 "metadata": {
  "kernelspec": {
   "display_name": "Python 3",
   "language": "python",
   "name": "python3"
  },
  "language_info": {
   "codemirror_mode": {
    "name": "ipython",
    "version": 2
   },
   "file_extension": ".py",
   "mimetype": "text/x-python",
   "name": "python",
   "nbconvert_exporter": "python",
   "pygments_lexer": "ipython2",
   "version": "2.7.6"
  }
 },
 "nbformat": 4,
 "nbformat_minor": 5
}
