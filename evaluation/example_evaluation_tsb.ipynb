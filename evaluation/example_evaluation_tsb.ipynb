{
 "cells": [
  {
   "metadata": {},
   "cell_type": "raw",
   "source": [
    "#Example Evaluation with the TSB-AD Library\n",
    "- Note that this evaluation is based on the example provided in the TSB-AD documentation."
   ],
   "id": "a34608b26a0cf2e4"
  },
  {
   "metadata": {
    "ExecuteTime": {
     "end_time": "2025-05-24T15:43:22.137098Z",
     "start_time": "2025-05-24T15:43:22.134195Z"
    }
   },
   "cell_type": "code",
   "source": [
    "import os\n",
    "from scipy.stats import zscore # Z-normalization\n",
    "from TSB_AD.model_wrapper import run_Unsupervise_AD, run_Semisupervise_AD\n",
    "from TSB_AD.evaluation.metrics import get_metrics\n",
    "import torch\n",
    "import pandas as pd\n",
    "import numpy as np"
   ],
   "id": "c6437dc42c96b796",
   "outputs": [],
   "execution_count": 61
  },
  {
   "metadata": {
    "ExecuteTime": {
     "end_time": "2025-05-24T15:43:22.159492Z",
     "start_time": "2025-05-24T15:43:22.154878Z"
    }
   },
   "cell_type": "code",
   "source": [
    "print(\"CUDA available: \", torch.cuda.is_available())\n",
    "print(\"cuDNN version: \", torch.backends.cudnn.version())\n",
    "if torch.cuda.is_available():\n",
    "    print(\"GPU device count: \", torch.cuda.device_count())\n",
    "    print(\"GPU device name: \", torch.cuda.get_device_name(0))"
   ],
   "id": "d82949f8cb154f2b",
   "outputs": [
    {
     "name": "stdout",
     "output_type": "stream",
     "text": [
      "CUDA available:  True\n",
      "cuDNN version:  90100\n",
      "GPU device count:  1\n",
      "GPU device name:  NVIDIA GeForce RTX 2060\n"
     ]
    }
   ],
   "execution_count": 62
  },
  {
   "metadata": {},
   "cell_type": "markdown",
   "source": "# For lightcurve datasets",
   "id": "87ab3e4e5ca3d4fe"
  },
  {
   "metadata": {
    "ExecuteTime": {
     "end_time": "2025-05-24T15:43:22.245467Z",
     "start_time": "2025-05-24T15:43:22.242956Z"
    }
   },
   "cell_type": "code",
   "source": [
    "# Paths\n",
    "dataset_folder = os.path.join('..', 'datasets', 'light_curves')\n",
    "mdwarfs_filename   = '14_mdwarfs.csv'\n",
    "kepler_filename    = 'kepler_H3_D120_3456_3466.txt'\n",
    "\n",
    "# Example TSAD detectors\n",
    "semisupervised_detector   = 'AnomalyTransformer'\n",
    "unsupervised_detector    = 'Series2Graph'\n",
    "result = []"
   ],
   "id": "e933dccaf75b0ffd",
   "outputs": [],
   "execution_count": 63
  },
  {
   "metadata": {},
   "cell_type": "raw",
   "source": "# Kepler : Unsupervised",
   "id": "f8d540e07f599cfa"
  },
  {
   "metadata": {
    "ExecuteTime": {
     "end_time": "2025-05-24T15:43:25.817796Z",
     "start_time": "2025-05-24T15:43:22.273617Z"
    }
   },
   "cell_type": "code",
   "source": [
    "# Kepler\n",
    "\n",
    "# Extract flare metadata from filename\n",
    "#   Format: kepler_H<height>_D<duration>_<rising_start>_<decay_start>.txt\n",
    "meta_parts         = kepler_filename.rstrip('.txt').split('_')\n",
    "duration_days      = int(meta_parts[2].lstrip('D'))\n",
    "rising_start_idx   = int(meta_parts[3])\n",
    "decay_start_idx    = int(meta_parts[4])\n",
    "\n",
    "\n",
    "file_path = os.path.join(dataset_folder, kepler_filename)\n",
    "with open(file_path, 'r') as f:\n",
    "    raw_flux = [float(line.strip()) for line in f]\n",
    "kepler_light_curve = (\n",
    "    zscore(np.array(raw_flux))\n",
    "    .astype(np.float64)\n",
    "    .reshape(-1, 1)\n",
    ")\n",
    "\n",
    "# Build true-label masks\n",
    "true_rising_labels = np.zeros(len(kepler_light_curve), dtype=int)\n",
    "true_rising_labels[rising_start_idx:decay_start_idx] = 1\n",
    "\n",
    "true_full_labels   = np.zeros(len(kepler_light_curve), dtype=int)\n",
    "true_full_labels[rising_start_idx:rising_start_idx + duration_days] = 1\n",
    "\n",
    "# Run the unsupervised anomaly detector\n",
    "anomaly_scores = run_Unsupervise_AD(unsupervised_detector, kepler_light_curve)\n",
    "\n",
    "# Evaluate and collect results for each phase\n",
    "for scores, true_labels, phase in [\n",
    "    (anomaly_scores, true_rising_labels, 'rising'),\n",
    "    (anomaly_scores, true_full_labels,   'full'),\n",
    "]:\n",
    "    metrics = get_metrics(scores, true_labels)\n",
    "    metrics.update({\n",
    "        'detector_name':  unsupervised_detector,\n",
    "        'detector_type':  'unsupervised',\n",
    "        'file_name':      kepler_filename,\n",
    "        'anomaly_phase':  phase,\n",
    "        'flare_type': 'Kepler',\n",
    "    })\n",
    "    result.append(metrics)"
   ],
   "id": "296f84e9166f0b94",
   "outputs": [
    {
     "name": "stderr",
     "output_type": "stream",
     "text": [
      "D:\\git_project\\ts-mining-light-curve\\venv\\Lib\\site-packages\\TSB_AD\\models\\Series2Graph.py:430: FutureWarning: DataFrame.fillna with 'method' is deprecated and will raise in a future version. Use obj.ffill() or obj.bfill() instead.\n",
      "  df = df.fillna(method='bfill')\n",
      "D:\\git_project\\ts-mining-light-curve\\venv\\Lib\\site-packages\\sklearn\\metrics\\_classification.py:1531: UndefinedMetricWarning: Precision is ill-defined and being set to 0.0 due to no predicted samples. Use `zero_division` parameter to control this behavior.\n",
      "  _warn_prf(average, modifier, f\"{metric.capitalize()} is\", len(result))\n",
      "D:\\git_project\\ts-mining-light-curve\\venv\\Lib\\site-packages\\sklearn\\metrics\\_classification.py:1531: UndefinedMetricWarning: Precision is ill-defined and being set to 0.0 due to no predicted samples. Use `zero_division` parameter to control this behavior.\n",
      "  _warn_prf(average, modifier, f\"{metric.capitalize()} is\", len(result))\n"
     ]
    }
   ],
   "execution_count": 64
  },
  {
   "metadata": {},
   "cell_type": "raw",
   "source": "# Kepler : semi-supervised",
   "id": "b61d67b173184307"
  },
  {
   "metadata": {
    "ExecuteTime": {
     "end_time": "2025-05-24T15:43:36.037636Z",
     "start_time": "2025-05-24T15:43:25.839990Z"
    }
   },
   "cell_type": "code",
   "source": [
    "idx_training = 500\n",
    "train_data = kepler_light_curve[:idx_training]\n",
    "test_data = kepler_light_curve[idx_training:]\n",
    "\n",
    "# Run the unsupervised anomaly detector\n",
    "anomaly_scores = run_Semisupervise_AD(semisupervised_detector, train_data, test_data)\n",
    "\n",
    "# Evaluate and collect results for each phase\n",
    "for scores, true_labels, phase in [\n",
    "    (anomaly_scores, true_rising_labels[idx_training:], 'rising'),\n",
    "    (anomaly_scores, true_full_labels[idx_training:],   'full'),\n",
    "]:\n",
    "    metrics = get_metrics(scores, true_labels)\n",
    "    metrics.update({\n",
    "        'detector_name':  semisupervised_detector,\n",
    "        'detector_type':  'semisupervised',\n",
    "        'file_name':      kepler_filename,\n",
    "        'anomaly_phase':  phase,\n",
    "        'flare_type': 'Kepler',\n",
    "    })\n",
    "    result.append(metrics)"
   ],
   "id": "54ae8ec2e0ce9e5d",
   "outputs": [
    {
     "name": "stdout",
     "output_type": "stream",
     "text": [
      "----- Using GPU NVIDIA GeForce RTX 2060 -----\n",
      "======================TRAIN MODE======================\n"
     ]
    },
    {
     "name": "stderr",
     "output_type": "stream",
     "text": [
      "100%|██████████| 3/3 [00:00<00:00,  3.78it/s]\n",
      "Validation Epoch: : 100%|██████████| 1/1 [00:00<00:00, 15.05it/s, loss1=-24.2, loss2=24.6]\n"
     ]
    },
    {
     "name": "stdout",
     "output_type": "stream",
     "text": [
      "Updating learning rate to 0.0001\n"
     ]
    },
    {
     "name": "stderr",
     "output_type": "stream",
     "text": [
      "100%|██████████| 3/3 [00:00<00:00,  4.94it/s]\n",
      "Validation Epoch: : 100%|██████████| 1/1 [00:00<00:00, 15.12it/s, loss1=-24.8, loss2=25.2]\n"
     ]
    },
    {
     "name": "stdout",
     "output_type": "stream",
     "text": [
      "EarlyStopping counter: 1 out of 7\n",
      "Updating learning rate to 5e-05\n"
     ]
    },
    {
     "name": "stderr",
     "output_type": "stream",
     "text": [
      "100%|██████████| 3/3 [00:00<00:00,  4.86it/s]\n",
      "Validation Epoch: : 100%|██████████| 1/1 [00:00<00:00, 15.15it/s, loss1=-25.5, loss2=25.7]\n"
     ]
    },
    {
     "name": "stdout",
     "output_type": "stream",
     "text": [
      "EarlyStopping counter: 2 out of 7\n",
      "Updating learning rate to 2.5e-05\n"
     ]
    },
    {
     "name": "stderr",
     "output_type": "stream",
     "text": [
      "100%|██████████| 3/3 [00:00<00:00,  4.95it/s]\n",
      "Validation Epoch: : 100%|██████████| 1/1 [00:00<00:00, 15.66it/s, loss1=-25.9, loss2=26]\n"
     ]
    },
    {
     "name": "stdout",
     "output_type": "stream",
     "text": [
      "EarlyStopping counter: 3 out of 7\n",
      "Updating learning rate to 1.25e-05\n"
     ]
    },
    {
     "name": "stderr",
     "output_type": "stream",
     "text": [
      "100%|██████████| 3/3 [00:00<00:00,  4.99it/s]\n",
      "Validation Epoch: : 100%|██████████| 1/1 [00:00<00:00, 15.26it/s, loss1=-26.1, loss2=26.2]\n"
     ]
    },
    {
     "name": "stdout",
     "output_type": "stream",
     "text": [
      "EarlyStopping counter: 4 out of 7\n",
      "Updating learning rate to 6.25e-06\n"
     ]
    },
    {
     "name": "stderr",
     "output_type": "stream",
     "text": [
      "100%|██████████| 3/3 [00:00<00:00,  4.99it/s]\n",
      "Validation Epoch: : 100%|██████████| 1/1 [00:00<00:00, 15.58it/s, loss1=-26.2, loss2=26.3]\n"
     ]
    },
    {
     "name": "stdout",
     "output_type": "stream",
     "text": [
      "EarlyStopping counter: 5 out of 7\n",
      "Updating learning rate to 3.125e-06\n"
     ]
    },
    {
     "name": "stderr",
     "output_type": "stream",
     "text": [
      "100%|██████████| 3/3 [00:00<00:00,  4.96it/s]\n",
      "Validation Epoch: : 100%|██████████| 1/1 [00:00<00:00, 15.89it/s, loss1=-26.3, loss2=26.4]\n"
     ]
    },
    {
     "name": "stdout",
     "output_type": "stream",
     "text": [
      "EarlyStopping counter: 6 out of 7\n",
      "Updating learning rate to 1.5625e-06\n"
     ]
    },
    {
     "name": "stderr",
     "output_type": "stream",
     "text": [
      "100%|██████████| 3/3 [00:00<00:00,  4.99it/s]\n",
      "Validation Epoch: : 100%|██████████| 1/1 [00:00<00:00, 16.08it/s, loss1=-26.3, loss2=26.4]\n",
      "D:\\git_project\\ts-mining-light-curve\\venv\\Lib\\site-packages\\torch\\nn\\_reduction.py:51: UserWarning: size_average and reduce args will be deprecated, please use reduction='none' instead.\n",
      "  warnings.warn(warning.format(ret))\n"
     ]
    },
    {
     "name": "stdout",
     "output_type": "stream",
     "text": [
      "EarlyStopping counter: 7 out of 7\n",
      "Early stopping\n",
      "======================TEST MODE======================\n"
     ]
    },
    {
     "name": "stderr",
     "output_type": "stream",
     "text": [
      "100%|██████████| 29/29 [00:01<00:00, 14.80it/s]\n",
      "D:\\git_project\\ts-mining-light-curve\\venv\\Lib\\site-packages\\sklearn\\metrics\\_classification.py:1531: UndefinedMetricWarning: Precision is ill-defined and being set to 0.0 due to no predicted samples. Use `zero_division` parameter to control this behavior.\n",
      "  _warn_prf(average, modifier, f\"{metric.capitalize()} is\", len(result))\n",
      "D:\\git_project\\ts-mining-light-curve\\venv\\Lib\\site-packages\\sklearn\\metrics\\_classification.py:1531: UndefinedMetricWarning: Precision is ill-defined and being set to 0.0 due to no predicted samples. Use `zero_division` parameter to control this behavior.\n",
      "  _warn_prf(average, modifier, f\"{metric.capitalize()} is\", len(result))\n"
     ]
    }
   ],
   "execution_count": 65
  },
  {
   "metadata": {},
   "cell_type": "markdown",
   "source": "# Mdwarfs : Unsupervised",
   "id": "cc1a3b39b62a1437"
  },
  {
   "metadata": {
    "ExecuteTime": {
     "end_time": "2025-05-24T15:43:38.257704Z",
     "start_time": "2025-05-24T15:43:36.063368Z"
    }
   },
   "cell_type": "code",
   "source": [
    "# Mdwarfs\n",
    "rising_start_time = -20       # start of rising phase\n",
    "flare_end_time    = 30        # end of full flare duration\n",
    "\n",
    "df = pd.read_csv(os.path.join(dataset_folder, mdwarfs_filename))\n",
    "\n",
    "# Build true-label masks\n",
    "df['label_rising'] = (\n",
    "    (df['timestamps'] >= rising_start_time) & (df['timestamps'] <= 0)\n",
    ").astype(int)\n",
    "df['label_full'] = (\n",
    "    (df['timestamps'] >= rising_start_time) & (df['timestamps'] <= flare_end_time)\n",
    ").astype(int)\n",
    "\n",
    "\n",
    "mdwarfs_light_curve = df['nor'].astype(float).values.reshape(-1, 1)\n",
    "true_rising_labels  = df['label_rising'].to_numpy()\n",
    "true_full_labels    = df['label_full'].to_numpy()\n",
    "\n",
    "# Run the unsupervised anomaly detector\n",
    "anomaly_scores = run_Unsupervise_AD(unsupervised_detector, mdwarfs_light_curve)\n",
    "\n",
    "# Evaluate and collect results for each phase\n",
    "for scores, true_labels, phase in [\n",
    "    (anomaly_scores, true_rising_labels, 'rising'),\n",
    "    (anomaly_scores, true_full_labels,   'full'),\n",
    "]:\n",
    "    metrics = get_metrics(scores, true_labels)\n",
    "    metrics.update({\n",
    "        'detector_name':  unsupervised_detector,\n",
    "        'detector_type':  'unsupervised',\n",
    "        'file_name':      mdwarfs_filename,\n",
    "        'anomaly_phase':  phase,\n",
    "        'flare_type': 'Mdwarfs',\n",
    "    })\n",
    "    result.append(metrics)"
   ],
   "id": "9c9a85b6c0b67830",
   "outputs": [
    {
     "name": "stderr",
     "output_type": "stream",
     "text": [
      "D:\\git_project\\ts-mining-light-curve\\venv\\Lib\\site-packages\\TSB_AD\\models\\Series2Graph.py:430: FutureWarning: DataFrame.fillna with 'method' is deprecated and will raise in a future version. Use obj.ffill() or obj.bfill() instead.\n",
      "  df = df.fillna(method='bfill')\n",
      "D:\\git_project\\ts-mining-light-curve\\venv\\Lib\\site-packages\\sklearn\\metrics\\_classification.py:1531: UndefinedMetricWarning: Precision is ill-defined and being set to 0.0 due to no predicted samples. Use `zero_division` parameter to control this behavior.\n",
      "  _warn_prf(average, modifier, f\"{metric.capitalize()} is\", len(result))\n",
      "D:\\git_project\\ts-mining-light-curve\\venv\\Lib\\site-packages\\sklearn\\metrics\\_classification.py:1531: UndefinedMetricWarning: Precision is ill-defined and being set to 0.0 due to no predicted samples. Use `zero_division` parameter to control this behavior.\n",
      "  _warn_prf(average, modifier, f\"{metric.capitalize()} is\", len(result))\n"
     ]
    }
   ],
   "execution_count": 66
  },
  {
   "metadata": {},
   "cell_type": "markdown",
   "source": "# Mdwarfs : semi-supervised",
   "id": "87ee48dd5d3e7d75"
  },
  {
   "metadata": {
    "ExecuteTime": {
     "end_time": "2025-05-24T15:43:54.288538Z",
     "start_time": "2025-05-24T15:43:38.283335Z"
    }
   },
   "cell_type": "code",
   "source": [
    "timestamps_array = df['timestamps'].to_numpy()\n",
    "idx_training = round(len(timestamps_array)*0.3)\n",
    "\n",
    "train_data = mdwarfs_light_curve[:idx_training]\n",
    "test_data = mdwarfs_light_curve[idx_training:]\n",
    "\n",
    "# Run the unsupervised anomaly detector\n",
    "anomaly_scores = run_Semisupervise_AD(semisupervised_detector, train_data, test_data)\n",
    "\n",
    "# Evaluate and collect results for each phase\n",
    "for scores, true_labels, phase in [\n",
    "    (anomaly_scores, true_rising_labels[idx_training:], 'rising'),\n",
    "    (anomaly_scores, true_full_labels[idx_training:],   'full'),\n",
    "]:\n",
    "    metrics = get_metrics(scores, true_labels)\n",
    "    metrics.update({\n",
    "        'detector_name':  semisupervised_detector,\n",
    "        'detector_type':  'semisupervised',\n",
    "        'file_name':      mdwarfs_filename,\n",
    "        'anomaly_phase':  phase,\n",
    "        'flare_type': 'Mdwarfs',\n",
    "    })\n",
    "    result.append(metrics)\n"
   ],
   "id": "fea71eae4e100581",
   "outputs": [
    {
     "name": "stdout",
     "output_type": "stream",
     "text": [
      "----- Using GPU NVIDIA GeForce RTX 2060 -----\n",
      "======================TRAIN MODE======================\n"
     ]
    },
    {
     "name": "stderr",
     "output_type": "stream",
     "text": [
      "100%|██████████| 6/6 [00:01<00:00,  4.15it/s]\n",
      "Validation Epoch: : 100%|██████████| 1/1 [00:00<00:00,  9.34it/s, loss1=-26.3, loss2=27]\n"
     ]
    },
    {
     "name": "stdout",
     "output_type": "stream",
     "text": [
      "Updating learning rate to 0.0001\n"
     ]
    },
    {
     "name": "stderr",
     "output_type": "stream",
     "text": [
      "100%|██████████| 6/6 [00:01<00:00,  4.22it/s]\n",
      "Validation Epoch: : 100%|██████████| 1/1 [00:00<00:00,  9.03it/s, loss1=-30, loss2=30.6]\n"
     ]
    },
    {
     "name": "stdout",
     "output_type": "stream",
     "text": [
      "EarlyStopping counter: 1 out of 7\n",
      "Updating learning rate to 5e-05\n"
     ]
    },
    {
     "name": "stderr",
     "output_type": "stream",
     "text": [
      "100%|██████████| 6/6 [00:01<00:00,  4.19it/s]\n",
      "Validation Epoch: : 100%|██████████| 1/1 [00:00<00:00,  9.41it/s, loss1=-32.7, loss2=33]\n"
     ]
    },
    {
     "name": "stdout",
     "output_type": "stream",
     "text": [
      "EarlyStopping counter: 2 out of 7\n",
      "Updating learning rate to 2.5e-05\n"
     ]
    },
    {
     "name": "stderr",
     "output_type": "stream",
     "text": [
      "100%|██████████| 6/6 [00:01<00:00,  4.17it/s]\n",
      "Validation Epoch: : 100%|██████████| 1/1 [00:00<00:00,  8.94it/s, loss1=-34.2, loss2=34.4]\n"
     ]
    },
    {
     "name": "stdout",
     "output_type": "stream",
     "text": [
      "EarlyStopping counter: 3 out of 7\n",
      "Updating learning rate to 1.25e-05\n"
     ]
    },
    {
     "name": "stderr",
     "output_type": "stream",
     "text": [
      "100%|██████████| 6/6 [00:01<00:00,  4.14it/s]\n",
      "Validation Epoch: : 100%|██████████| 1/1 [00:00<00:00,  9.06it/s, loss1=-34.8, loss2=35.1]\n"
     ]
    },
    {
     "name": "stdout",
     "output_type": "stream",
     "text": [
      "EarlyStopping counter: 4 out of 7\n",
      "Updating learning rate to 6.25e-06\n"
     ]
    },
    {
     "name": "stderr",
     "output_type": "stream",
     "text": [
      "100%|██████████| 6/6 [00:01<00:00,  4.14it/s]\n",
      "Validation Epoch: : 100%|██████████| 1/1 [00:00<00:00,  8.92it/s, loss1=-35.1, loss2=35.4]\n"
     ]
    },
    {
     "name": "stdout",
     "output_type": "stream",
     "text": [
      "EarlyStopping counter: 5 out of 7\n",
      "Updating learning rate to 3.125e-06\n"
     ]
    },
    {
     "name": "stderr",
     "output_type": "stream",
     "text": [
      "100%|██████████| 6/6 [00:01<00:00,  4.15it/s]\n",
      "Validation Epoch: : 100%|██████████| 1/1 [00:00<00:00,  9.11it/s, loss1=-35.3, loss2=35.5]\n"
     ]
    },
    {
     "name": "stdout",
     "output_type": "stream",
     "text": [
      "EarlyStopping counter: 6 out of 7\n",
      "Updating learning rate to 1.5625e-06\n"
     ]
    },
    {
     "name": "stderr",
     "output_type": "stream",
     "text": [
      "100%|██████████| 6/6 [00:01<00:00,  4.20it/s]\n",
      "Validation Epoch: : 100%|██████████| 1/1 [00:00<00:00,  8.84it/s, loss1=-35.4, loss2=35.6]\n",
      "D:\\git_project\\ts-mining-light-curve\\venv\\Lib\\site-packages\\torch\\nn\\_reduction.py:51: UserWarning: size_average and reduce args will be deprecated, please use reduction='none' instead.\n",
      "  warnings.warn(warning.format(ret))\n"
     ]
    },
    {
     "name": "stdout",
     "output_type": "stream",
     "text": [
      "EarlyStopping counter: 7 out of 7\n",
      "Early stopping\n",
      "======================TEST MODE======================\n"
     ]
    },
    {
     "name": "stderr",
     "output_type": "stream",
     "text": [
      "100%|██████████| 17/17 [00:01<00:00, 14.72it/s]\n",
      "D:\\git_project\\ts-mining-light-curve\\venv\\Lib\\site-packages\\sklearn\\metrics\\_classification.py:1531: UndefinedMetricWarning: Precision is ill-defined and being set to 0.0 due to no predicted samples. Use `zero_division` parameter to control this behavior.\n",
      "  _warn_prf(average, modifier, f\"{metric.capitalize()} is\", len(result))\n",
      "D:\\git_project\\ts-mining-light-curve\\venv\\Lib\\site-packages\\sklearn\\metrics\\_classification.py:1531: UndefinedMetricWarning: Precision is ill-defined and being set to 0.0 due to no predicted samples. Use `zero_division` parameter to control this behavior.\n",
      "  _warn_prf(average, modifier, f\"{metric.capitalize()} is\", len(result))\n"
     ]
    }
   ],
   "execution_count": 67
  },
  {
   "metadata": {
    "ExecuteTime": {
     "end_time": "2025-05-24T15:43:54.324545Z",
     "start_time": "2025-05-24T15:43:54.313312Z"
    }
   },
   "cell_type": "code",
   "source": [
    "df_LC = pd.DataFrame(result).reset_index()\n",
    "df_LC"
   ],
   "id": "b21d013ff767c698",
   "outputs": [
    {
     "data": {
      "text/plain": [
       "   index    AUC-PR   AUC-ROC    VUS-PR   VUS-ROC  Standard-F1     PA-F1  \\\n",
       "0      0  0.008017  0.822217  0.048265  0.916547     0.021621  0.070922   \n",
       "1      1  0.089237  0.707723  0.092150  0.745007     0.170342  0.995851   \n",
       "2      2  0.002660  0.497599  0.039756  0.544807     0.005306  0.000000   \n",
       "3      3  0.041114  0.506149  0.051874  0.509317     0.061871  1.000000   \n",
       "4      4  0.148374  0.979612  0.391537  0.990970     0.324321  0.421053   \n",
       "5      5  0.189588  0.961495  0.418762  0.981928     0.368790  0.645161   \n",
       "6      6  0.008818  0.496664  0.027780  0.506320     0.017482  0.000000   \n",
       "7      7  0.022046  0.496619  0.041396  0.509751     0.043140  0.000000   \n",
       "\n",
       "   Event-based-F1  R-based-F1  Affiliation-F       detector_name  \\\n",
       "0        0.021362    0.034146       0.906999        Series2Graph   \n",
       "1        0.666667    0.292453       0.918881        Series2Graph   \n",
       "2        0.000000    0.000000       0.981245  AnomalyTransformer   \n",
       "3        1.000000    0.342541       0.991232  AnomalyTransformer   \n",
       "4        0.317757    0.333365       0.988382        Series2Graph   \n",
       "5        0.434783    0.346821       0.984853        Series2Graph   \n",
       "6        0.000000    0.000000       0.833368  AnomalyTransformer   \n",
       "7        0.000000    0.000000       0.844709  AnomalyTransformer   \n",
       "\n",
       "    detector_type                     file_name anomaly_phase flare_type  \n",
       "0    unsupervised  kepler_H3_D120_3456_3466.txt        rising     Kepler  \n",
       "1    unsupervised  kepler_H3_D120_3456_3466.txt          full     Kepler  \n",
       "2  semisupervised  kepler_H3_D120_3456_3466.txt        rising     Kepler  \n",
       "3  semisupervised  kepler_H3_D120_3456_3466.txt          full     Kepler  \n",
       "4    unsupervised                14_mdwarfs.csv        rising    Mdwarfs  \n",
       "5    unsupervised                14_mdwarfs.csv          full    Mdwarfs  \n",
       "6  semisupervised                14_mdwarfs.csv        rising    Mdwarfs  \n",
       "7  semisupervised                14_mdwarfs.csv          full    Mdwarfs  "
      ],
      "text/html": [
       "<div>\n",
       "<style scoped>\n",
       "    .dataframe tbody tr th:only-of-type {\n",
       "        vertical-align: middle;\n",
       "    }\n",
       "\n",
       "    .dataframe tbody tr th {\n",
       "        vertical-align: top;\n",
       "    }\n",
       "\n",
       "    .dataframe thead th {\n",
       "        text-align: right;\n",
       "    }\n",
       "</style>\n",
       "<table border=\"1\" class=\"dataframe\">\n",
       "  <thead>\n",
       "    <tr style=\"text-align: right;\">\n",
       "      <th></th>\n",
       "      <th>index</th>\n",
       "      <th>AUC-PR</th>\n",
       "      <th>AUC-ROC</th>\n",
       "      <th>VUS-PR</th>\n",
       "      <th>VUS-ROC</th>\n",
       "      <th>Standard-F1</th>\n",
       "      <th>PA-F1</th>\n",
       "      <th>Event-based-F1</th>\n",
       "      <th>R-based-F1</th>\n",
       "      <th>Affiliation-F</th>\n",
       "      <th>detector_name</th>\n",
       "      <th>detector_type</th>\n",
       "      <th>file_name</th>\n",
       "      <th>anomaly_phase</th>\n",
       "      <th>flare_type</th>\n",
       "    </tr>\n",
       "  </thead>\n",
       "  <tbody>\n",
       "    <tr>\n",
       "      <th>0</th>\n",
       "      <td>0</td>\n",
       "      <td>0.008017</td>\n",
       "      <td>0.822217</td>\n",
       "      <td>0.048265</td>\n",
       "      <td>0.916547</td>\n",
       "      <td>0.021621</td>\n",
       "      <td>0.070922</td>\n",
       "      <td>0.021362</td>\n",
       "      <td>0.034146</td>\n",
       "      <td>0.906999</td>\n",
       "      <td>Series2Graph</td>\n",
       "      <td>unsupervised</td>\n",
       "      <td>kepler_H3_D120_3456_3466.txt</td>\n",
       "      <td>rising</td>\n",
       "      <td>Kepler</td>\n",
       "    </tr>\n",
       "    <tr>\n",
       "      <th>1</th>\n",
       "      <td>1</td>\n",
       "      <td>0.089237</td>\n",
       "      <td>0.707723</td>\n",
       "      <td>0.092150</td>\n",
       "      <td>0.745007</td>\n",
       "      <td>0.170342</td>\n",
       "      <td>0.995851</td>\n",
       "      <td>0.666667</td>\n",
       "      <td>0.292453</td>\n",
       "      <td>0.918881</td>\n",
       "      <td>Series2Graph</td>\n",
       "      <td>unsupervised</td>\n",
       "      <td>kepler_H3_D120_3456_3466.txt</td>\n",
       "      <td>full</td>\n",
       "      <td>Kepler</td>\n",
       "    </tr>\n",
       "    <tr>\n",
       "      <th>2</th>\n",
       "      <td>2</td>\n",
       "      <td>0.002660</td>\n",
       "      <td>0.497599</td>\n",
       "      <td>0.039756</td>\n",
       "      <td>0.544807</td>\n",
       "      <td>0.005306</td>\n",
       "      <td>0.000000</td>\n",
       "      <td>0.000000</td>\n",
       "      <td>0.000000</td>\n",
       "      <td>0.981245</td>\n",
       "      <td>AnomalyTransformer</td>\n",
       "      <td>semisupervised</td>\n",
       "      <td>kepler_H3_D120_3456_3466.txt</td>\n",
       "      <td>rising</td>\n",
       "      <td>Kepler</td>\n",
       "    </tr>\n",
       "    <tr>\n",
       "      <th>3</th>\n",
       "      <td>3</td>\n",
       "      <td>0.041114</td>\n",
       "      <td>0.506149</td>\n",
       "      <td>0.051874</td>\n",
       "      <td>0.509317</td>\n",
       "      <td>0.061871</td>\n",
       "      <td>1.000000</td>\n",
       "      <td>1.000000</td>\n",
       "      <td>0.342541</td>\n",
       "      <td>0.991232</td>\n",
       "      <td>AnomalyTransformer</td>\n",
       "      <td>semisupervised</td>\n",
       "      <td>kepler_H3_D120_3456_3466.txt</td>\n",
       "      <td>full</td>\n",
       "      <td>Kepler</td>\n",
       "    </tr>\n",
       "    <tr>\n",
       "      <th>4</th>\n",
       "      <td>4</td>\n",
       "      <td>0.148374</td>\n",
       "      <td>0.979612</td>\n",
       "      <td>0.391537</td>\n",
       "      <td>0.990970</td>\n",
       "      <td>0.324321</td>\n",
       "      <td>0.421053</td>\n",
       "      <td>0.317757</td>\n",
       "      <td>0.333365</td>\n",
       "      <td>0.988382</td>\n",
       "      <td>Series2Graph</td>\n",
       "      <td>unsupervised</td>\n",
       "      <td>14_mdwarfs.csv</td>\n",
       "      <td>rising</td>\n",
       "      <td>Mdwarfs</td>\n",
       "    </tr>\n",
       "    <tr>\n",
       "      <th>5</th>\n",
       "      <td>5</td>\n",
       "      <td>0.189588</td>\n",
       "      <td>0.961495</td>\n",
       "      <td>0.418762</td>\n",
       "      <td>0.981928</td>\n",
       "      <td>0.368790</td>\n",
       "      <td>0.645161</td>\n",
       "      <td>0.434783</td>\n",
       "      <td>0.346821</td>\n",
       "      <td>0.984853</td>\n",
       "      <td>Series2Graph</td>\n",
       "      <td>unsupervised</td>\n",
       "      <td>14_mdwarfs.csv</td>\n",
       "      <td>full</td>\n",
       "      <td>Mdwarfs</td>\n",
       "    </tr>\n",
       "    <tr>\n",
       "      <th>6</th>\n",
       "      <td>6</td>\n",
       "      <td>0.008818</td>\n",
       "      <td>0.496664</td>\n",
       "      <td>0.027780</td>\n",
       "      <td>0.506320</td>\n",
       "      <td>0.017482</td>\n",
       "      <td>0.000000</td>\n",
       "      <td>0.000000</td>\n",
       "      <td>0.000000</td>\n",
       "      <td>0.833368</td>\n",
       "      <td>AnomalyTransformer</td>\n",
       "      <td>semisupervised</td>\n",
       "      <td>14_mdwarfs.csv</td>\n",
       "      <td>rising</td>\n",
       "      <td>Mdwarfs</td>\n",
       "    </tr>\n",
       "    <tr>\n",
       "      <th>7</th>\n",
       "      <td>7</td>\n",
       "      <td>0.022046</td>\n",
       "      <td>0.496619</td>\n",
       "      <td>0.041396</td>\n",
       "      <td>0.509751</td>\n",
       "      <td>0.043140</td>\n",
       "      <td>0.000000</td>\n",
       "      <td>0.000000</td>\n",
       "      <td>0.000000</td>\n",
       "      <td>0.844709</td>\n",
       "      <td>AnomalyTransformer</td>\n",
       "      <td>semisupervised</td>\n",
       "      <td>14_mdwarfs.csv</td>\n",
       "      <td>full</td>\n",
       "      <td>Mdwarfs</td>\n",
       "    </tr>\n",
       "  </tbody>\n",
       "</table>\n",
       "</div>"
      ]
     },
     "execution_count": 68,
     "metadata": {},
     "output_type": "execute_result"
    }
   ],
   "execution_count": 68
  },
  {
   "metadata": {
    "ExecuteTime": {
     "end_time": "2025-05-24T15:43:54.372411Z",
     "start_time": "2025-05-24T15:43:54.370485Z"
    }
   },
   "cell_type": "code",
   "source": "",
   "id": "163c0e18d3fa55d2",
   "outputs": [],
   "execution_count": null
  }
 ],
 "metadata": {
  "kernelspec": {
   "display_name": "Python 3",
   "language": "python",
   "name": "python3"
  },
  "language_info": {
   "codemirror_mode": {
    "name": "ipython",
    "version": 2
   },
   "file_extension": ".py",
   "mimetype": "text/x-python",
   "name": "python",
   "nbconvert_exporter": "python",
   "pygments_lexer": "ipython2",
   "version": "2.7.6"
  }
 },
 "nbformat": 4,
 "nbformat_minor": 5
}
